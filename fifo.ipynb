{
  "nbformat": 4,
  "nbformat_minor": 0,
  "metadata": {
    "colab": {
      "provenance": [],
      "authorship_tag": "ABX9TyPxyc9iniUAEP7Xy8BcgPSo",
      "include_colab_link": true
    },
    "kernelspec": {
      "name": "python3",
      "display_name": "Python 3"
    },
    "language_info": {
      "name": "python"
    }
  },
  "cells": [
    {
      "cell_type": "markdown",
      "metadata": {
        "id": "view-in-github",
        "colab_type": "text"
      },
      "source": [
        "<a href=\"https://colab.research.google.com/github/lechitiva/fifo.ipynb/blob/master/fifo.ipynb\" target=\"_parent\"><img src=\"https://colab.research.google.com/assets/colab-badge.svg\" alt=\"Open In Colab\"/></a>"
      ]
    },
    {
      "cell_type": "code",
      "execution_count": null,
      "metadata": {
        "colab": {
          "base_uri": "https://localhost:8080/"
        },
        "id": "O5Fd3Fj7tAJG",
        "outputId": "c2630043-a09a-4cb9-df26-dc241ed71097"
      },
      "outputs": [
        {
          "output_type": "stream",
          "name": "stdout",
          "text": [
            "Cola actual: [1, 2, 3]\n",
            "Elemento sacado de la cola: 1\n",
            "Cola actualizada: [2, 3]\n"
          ]
        }
      ],
      "source": [
        "# Creamos una clase para implementar la cola FIFO\n",
        "class ColaFIFO:\n",
        "    def __init__(self):\n",
        "        self.items = []\n",
        "\n",
        "    def esta_vacia(self):\n",
        "        return self.items == []\n",
        "\n",
        "    def agregar(self, item):\n",
        "        self.items.append(item)\n",
        "\n",
        "    def sacar(self):\n",
        "        if not self.esta_vacia():\n",
        "            return self.items.pop(0)\n",
        "        else:\n",
        "            return None\n",
        "\n",
        "# Creamos una instancia de la clase ColaFIFO\n",
        "cola = ColaFIFO()\n",
        "\n",
        "# Agregamos elementos a la cola\n",
        "cola.agregar(1)\n",
        "cola.agregar(2)\n",
        "cola.agregar(3)\n",
        "\n",
        "# Imprimimos la cola actual\n",
        "print(\"Cola actual:\", cola.items)\n",
        "\n",
        "# Sacamos el primer elemento de la cola (el primer elemento que entró)\n",
        "primero_en_salir = cola.sacar()\n",
        "print(\"Elemento sacado de la cola:\", primero_en_salir)\n",
        "# Imprimimos la cola actualizada\n",
        "print(\"Cola actualizada:\", cola.items)\n",
        "\n"
      ]
    }
  ]
}